{
 "cells": [
  {
   "cell_type": "markdown",
   "metadata": {},
   "source": [
    "# 세미콜론\n",
    "* 파이썬은 명령문의 마지막에 세미콜론을 붙이지 않음"
   ]
  },
  {
   "cell_type": "code",
   "execution_count": 1,
   "metadata": {},
   "outputs": [
    {
     "name": "stdout",
     "output_type": "stream",
     "text": [
      "Hello World\n"
     ]
    }
   ],
   "source": [
    "print(\"Hello World\")"
   ]
  },
  {
   "cell_type": "markdown",
   "metadata": {},
   "source": [
    "* 세미콜론을 붙여도 문법 에러는 발생하지 않음\n",
    "    * 한 줄에 여러 구문을 사용할 때 세미콜론으로 구분"
   ]
  },
  {
   "cell_type": "code",
   "execution_count": 5,
   "metadata": {},
   "outputs": [
    {
     "name": "stdout",
     "output_type": "stream",
     "text": [
      "Hello\n",
      "world\n"
     ]
    }
   ],
   "source": [
    "print('Hello');print('world')"
   ]
  },
  {
   "cell_type": "markdown",
   "metadata": {},
   "source": [
    "# 주석(Comment)\n",
    "* 사람만 알아볼 수 있도록 작성하는 부분\n",
    "* 프로그램 실행에는 영향 x \n",
    "* 코드에 자세한 설명, 특정 코드를 임시로 사용하지 않도록 만들 때 사용\n",
    "* #을 이용하여 주석 작성"
   ]
  },
  {
   "cell_type": "code",
   "execution_count": 6,
   "metadata": {},
   "outputs": [
    {
     "name": "stdout",
     "output_type": "stream",
     "text": [
      "Hello World\n"
     ]
    }
   ],
   "source": [
    "# Hello World 출력\n",
    "print(\"Hello World\")"
   ]
  },
  {
   "cell_type": "markdown",
   "metadata": {},
   "source": [
    "# 들여쓰기\n",
    "* 가독성을 높이기 위해 일정한 간격을 띄워 작성하는 것\n",
    "* 파이썬을 들여쓰기 자체가 문법\n",
    "* 예를 들어, if의 다음 줄은 항상 들여쓰기를 해야 함\n",
    "    * 들여쓰기를 하지 않으면? 문법 에러 -> 코드가 실행되지 않음\n",
    "    "
   ]
  },
  {
   "cell_type": "code",
   "execution_count": 8,
   "metadata": {},
   "outputs": [
    {
     "name": "stdout",
     "output_type": "stream",
     "text": [
      "3\n"
     ]
    }
   ],
   "source": [
    "a = 3\n",
    "if a == 3:\n",
    "    print(a)"
   ]
  },
  {
   "cell_type": "markdown",
   "metadata": {},
   "source": [
    "* 파이썬에서 들여쓰기 방법은 공백(스페이스) 2칸, 4칸, 탭(tab)등 여러 가지 방법이 있음\n",
    "* 코딩 스타일 가이드(PEP8)에서는 공백 4칸으로 규정하고 있음\n",
    "    * 공백 4칸을 사용하는 것이 좋음"
   ]
  },
  {
   "cell_type": "markdown",
   "metadata": {},
   "source": [
    "* 코드 블록\n",
    "    * 코드 블록은 특정한 동작을 위해서 코드가 모여 있는 상태\n",
    "    * 파이썬은 들여쓰기를 기준으로 코드 블록을 구성\n",
    "    * 같은 블록은 들여쓰기 칸 수가 같아야 하고, 공백과 탭 문자를 섞어 쓰면 안 됨"
   ]
  },
  {
   "cell_type": "code",
   "execution_count": null,
   "metadata": {},
   "outputs": [],
   "source": []
  }
 ],
 "metadata": {
  "kernelspec": {
   "display_name": "Python 3",
   "language": "python",
   "name": "python3"
  },
  "language_info": {
   "codemirror_mode": {
    "name": "ipython",
    "version": 3
   },
   "file_extension": ".py",
   "mimetype": "text/x-python",
   "name": "python",
   "nbconvert_exporter": "python",
   "pygments_lexer": "ipython3",
   "version": "3.7.1"
  }
 },
 "nbformat": 4,
 "nbformat_minor": 2
}
