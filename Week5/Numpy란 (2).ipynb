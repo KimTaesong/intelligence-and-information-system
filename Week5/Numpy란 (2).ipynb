{
 "cells": [
  {
   "cell_type": "markdown",
   "metadata": {},
   "source": [
    "# Numpy란\n",
    "   - ## 1.ndarray 초기화 방법들\n",
    "   - ## 2.슬라이싱 (Slicing)\n",
    "   - ## 3.Numpy 연산\n",
    "   - ## 4.Numpy array 와 list 의 차이\n"
   ]
  },
  {
   "cell_type": "markdown",
   "metadata": {},
   "source": [
    "## 1. ndarray 초기화 방법들\n",
    "- ### 리스트를 이용하여 ndarray 를 생성하기\n",
    "- ### 그 외에 ndarray 를 만드는 다양한 방법\n",
    "    - np.zeros((a,b))\n",
    "    - np.ones ((a, b))\n",
    "    - np.full ((a, b),c)\n",
    "    - np.eye (a)\n",
    "    - np.random.random (a,b)\n",
    "    – ...<br>\n",
    "    \n",
    "데이터 분석에서는 분석의 대상이 되는 데이터가 이미 존재 -> 초기화를 사용할 일은 거의 없음\n",
    "그러나 numpy 의 특징을 살펴보기 위해"
   ]
  },
  {
   "cell_type": "markdown",
   "metadata": {},
   "source": [
    "## ndarray 초기화\n",
    "### 리스트를 이용하여 ndarray 를 생성하기\n",
    "### 그 외에 ndarray 를 만드는 다양한 방법\n",
    "- <b>np.zeros (shape=(a,b)) 혹은 np.zeros((a,b))</b>\n",
    "    - 모든 값이 0 인 a x b 크기의 배열 생성\n",
    "    - numpy.zeros (shape, dtype =float, order=‘C')\n",
    "        - https://numpy.org/doc/stable/reference/generated/numpy.zeros.html\n",
    "\n",
    "![ex02](./img/ex02.png)"
   ]
  },
  {
   "cell_type": "code",
   "execution_count": 33,
   "metadata": {},
   "outputs": [
    {
     "data": {
      "text/plain": [
       "array([[0., 0., 0.],\n",
       "       [0., 0., 0.]])"
      ]
     },
     "execution_count": 33,
     "metadata": {},
     "output_type": "execute_result"
    }
   ],
   "source": [
    "import numpy as np\n",
    "#  모든 값이 0인 2x3인 배열 생성\n",
    "a = np.zeros((2,3))\n",
    "a"
   ]
  },
  {
   "cell_type": "markdown",
   "metadata": {},
   "source": [
    "- <b>np.ones (shape=(a, b)) 혹은 np.ones ((a,b))</b>\n",
    "    - 모든 값이 1 인 a x b 크기의 배열 생성\n",
    "    - numpy.ones (shape, dtype =None, order='\n",
    "        - https://numpy.org/doc/stable/reference/generated/numpy.ones.html"
   ]
  },
  {
   "cell_type": "code",
   "execution_count": 34,
   "metadata": {},
   "outputs": [
    {
     "data": {
      "text/plain": [
       "array([[1., 1., 1.],\n",
       "       [1., 1., 1.]])"
      ]
     },
     "execution_count": 34,
     "metadata": {},
     "output_type": "execute_result"
    }
   ],
   "source": [
    "# 모든 값이 1인 2x3 배열 생성\n",
    "a = np.ones((2,3))\n",
    "a"
   ]
  },
  {
   "cell_type": "markdown",
   "metadata": {},
   "source": [
    "- <b>np.full (shape=(a, b), fill_value =c) 혹은 np.full ((a, b),c)</b>\n",
    "    - 모든 값이 c 인 a x b 크기의 배열 생성\n",
    "    - numpy.full (shape, fill_value , dtype =None, order='C')\n",
    "        - https://numpy.org/doc/stable/reference/generated/numpy.full.html"
   ]
  },
  {
   "cell_type": "code",
   "execution_count": 35,
   "metadata": {},
   "outputs": [
    {
     "data": {
      "text/plain": [
       "array([[5, 5, 5],\n",
       "       [5, 5, 5]])"
      ]
     },
     "execution_count": 35,
     "metadata": {},
     "output_type": "execute_result"
    }
   ],
   "source": [
    "# 모든 값이 5인 2 x 3 배열 생성\n",
    "a = np.full((2,3),5)\n",
    "a"
   ]
  },
  {
   "cell_type": "code",
   "execution_count": 36,
   "metadata": {},
   "outputs": [
    {
     "data": {
      "text/plain": [
       "array([[5, 5, 5],\n",
       "       [5, 5, 5]], dtype=int8)"
      ]
     },
     "execution_count": 36,
     "metadata": {},
     "output_type": "execute_result"
    }
   ],
   "source": [
    "#dtype 설정하기: np int8\n",
    "b = np.full((2,3),5, dtype =np.int8)\n",
    "b"
   ]
  },
  {
   "cell_type": "code",
   "execution_count": 37,
   "metadata": {},
   "outputs": [
    {
     "data": {
      "text/plain": [
       "array([[5., 5., 5.],\n",
       "       [5., 5., 5.]])"
      ]
     },
     "execution_count": 37,
     "metadata": {},
     "output_type": "execute_result"
    }
   ],
   "source": [
    "#dtype 설정하기: np float64\n",
    "b = np.full((2,3),5, dtype =np.float64)\n",
    "b"
   ]
  },
  {
   "cell_type": "code",
   "execution_count": 38,
   "metadata": {},
   "outputs": [
    {
     "data": {
      "text/plain": [
       "array([[1.5, 1.5, 1.5],\n",
       "       [1.5, 1.5, 1.5]])"
      ]
     },
     "execution_count": 38,
     "metadata": {},
     "output_type": "execute_result"
    }
   ],
   "source": [
    "# 모든 값이 1.5 인 2x3 배열 생성\n",
    "d = np.full((2,3),1.5)\n",
    "d"
   ]
  },
  {
   "cell_type": "markdown",
   "metadata": {},
   "source": [
    "- <b>np.eye(a)</b>\n",
    "    - 대각선 값은 1 이고 나머지는 0 인 a x a 크기의 2 차원 배열 생성\n",
    "    - 만약 np.eye (a, 인 경우 a x b 크기의 2 차원 배열 생성\n",
    "    - numpy.eye (N, M=None, k=0, dtype =<class 'float'>, order='C')\n",
    "        - https://numpy.org/doc/stable/reference/generated/numpy.eye.html"
   ]
  },
  {
   "cell_type": "code",
   "execution_count": 39,
   "metadata": {},
   "outputs": [
    {
     "data": {
      "text/plain": [
       "array([[1., 0., 0.],\n",
       "       [0., 1., 0.],\n",
       "       [0., 0., 1.]])"
      ]
     },
     "execution_count": 39,
     "metadata": {},
     "output_type": "execute_result"
    }
   ],
   "source": [
    "# 대각선 값은 1이고 나머지는 0인 a x a 크기의 2차원 배열 생성\n",
    "a = np.eye(3)\n",
    "a"
   ]
  },
  {
   "cell_type": "code",
   "execution_count": 40,
   "metadata": {},
   "outputs": [
    {
     "data": {
      "text/plain": [
       "array([[1., 0., 0., 0.],\n",
       "       [0., 1., 0., 0.],\n",
       "       [0., 0., 1., 0.]])"
      ]
     },
     "execution_count": 40,
     "metadata": {},
     "output_type": "execute_result"
    }
   ],
   "source": [
    "# 대각선 값은 1이고 나머지는 0인 axb 크기의 2차원 배열 생성\n",
    "a = np.eye(3,4)\n",
    "a"
   ]
  },
  {
   "cell_type": "markdown",
   "metadata": {},
   "source": [
    "- <b>np.random.randn(a,b)</b>\n",
    "    - 임의의 값으로 채워진 a x b 크기의 배열 생성\n",
    "    - numpy.random.randn (d0, d1, ..., dn)\n",
    "        - \n",
    "https://numpy.org/doc/stable/reference/random/generated/numpy.random.randn.html"
   ]
  },
  {
   "cell_type": "code",
   "execution_count": 41,
   "metadata": {},
   "outputs": [
    {
     "data": {
      "text/plain": [
       "array([[ 0.69713413,  2.22251508, -0.78789743],\n",
       "       [ 0.03243042,  0.71131201, -0.92061461]])"
      ]
     },
     "execution_count": 41,
     "metadata": {},
     "output_type": "execute_result"
    }
   ],
   "source": [
    "# 임의의 값으로 채워진 a x b 크기의 배열 생성\n",
    "np.random.randn(2,3)"
   ]
  },
  {
   "cell_type": "markdown",
   "metadata": {},
   "source": [
    "## 2. 슬라이싱\n",
    "- ### 슬라이싱(Slicing)\n",
    "   -  ndarray 를 통해 만든 다차원 배열은 list 처럼 슬라이스 (Slice) 기능을 지원\n",
    "       - 슬라이스 기능을 사용하여 여러 개의 원소에 접근할 수 있음\n",
    "   - 각 차원 별로 슬라이스 범위를 지정해줘야 함"
   ]
  },
  {
   "cell_type": "code",
   "execution_count": 42,
   "metadata": {},
   "outputs": [
    {
     "data": {
      "text/plain": [
       "array([1, 2])"
      ]
     },
     "execution_count": 42,
     "metadata": {},
     "output_type": "execute_result"
    }
   ],
   "source": [
    "a = np.array([1,2,3])\n",
    "b = a[0:2]\n",
    "b"
   ]
  },
  {
   "cell_type": "code",
   "execution_count": 43,
   "metadata": {},
   "outputs": [
    {
     "data": {
      "text/plain": [
       "array([[1, 2],\n",
       "       [4, 5]])"
      ]
     },
     "execution_count": 43,
     "metadata": {},
     "output_type": "execute_result"
    }
   ],
   "source": [
    "a = np.array([[1,2,3],[4,5,6]])\n",
    "b = a[0:2, 0:2]\n",
    "b"
   ]
  },
  {
   "cell_type": "markdown",
   "metadata": {},
   "source": [
    "## 3. Numpy 연산\n",
    "- ### ndarray 로 만든 자료형은 자유롭게 사칙연산이 가능\n",
    "    - 배열 간 연산을 손쉽게 수행할 수 있음\n",
    "        -  +, - , * , /  의 연산자 사용\n",
    "        - add(), substract (), multiply(), divide() 함수 사용\n"
   ]
  },
  {
   "cell_type": "code",
   "execution_count": 44,
   "metadata": {},
   "outputs": [],
   "source": [
    "a = np.array([1,2,3])\n",
    "b = np.array([4,5,6])"
   ]
  },
  {
   "cell_type": "code",
   "execution_count": 45,
   "metadata": {},
   "outputs": [
    {
     "data": {
      "text/plain": [
       "array([5, 7, 9])"
      ]
     },
     "execution_count": 45,
     "metadata": {},
     "output_type": "execute_result"
    }
   ],
   "source": [
    "# 동일한 인덱스에 위치한 요소끼리 덧셈\n",
    "# c = np.add(a,b)와 동일\n",
    "c = a + b\n",
    "c"
   ]
  },
  {
   "cell_type": "code",
   "execution_count": 46,
   "metadata": {},
   "outputs": [
    {
     "data": {
      "text/plain": [
       "array([-3, -3, -3])"
      ]
     },
     "execution_count": 46,
     "metadata": {},
     "output_type": "execute_result"
    }
   ],
   "source": [
    "# 동일한 인덱스에 위치한 요소끼리 뺄셈\n",
    "# c = np.substract(a,b)와 동일\n",
    "c = a - b\n",
    "c"
   ]
  },
  {
   "cell_type": "code",
   "execution_count": 47,
   "metadata": {},
   "outputs": [
    {
     "data": {
      "text/plain": [
       "array([ 4, 10, 18])"
      ]
     },
     "execution_count": 47,
     "metadata": {},
     "output_type": "execute_result"
    }
   ],
   "source": [
    "#동일한 인덱스에 위치한 요소끼리 곱셈\n",
    "c = a * b\n",
    "c"
   ]
  },
  {
   "cell_type": "code",
   "execution_count": 48,
   "metadata": {},
   "outputs": [
    {
     "data": {
      "text/plain": [
       "array([0.25, 0.4 , 0.5 ])"
      ]
     },
     "execution_count": 48,
     "metadata": {},
     "output_type": "execute_result"
    }
   ],
   "source": [
    "#동일한 인덱스에 위치한 요소끼리 나눗셈\n",
    "# c = np.divide(a,b)와 동일\n",
    "c = a / b\n",
    "c"
   ]
  },
  {
   "cell_type": "markdown",
   "metadata": {},
   "source": [
    "## 4. Numpy array 와 list 의 차이\n",
    "- ### 사칙연산\n",
    "    - numpy array 는 numpy array 끼리 사칙연산이 가능하지만 Python list 는 <b>덧셈</b> 만 가능\n",
    "    -----\n",
    "    - numpy array + numpy array\n",
    "        - 같은 인덱스에 있는 값들끼리 더해짐\n",
    "\n",
    "        - Ex.[1, 2, 3, 4, 5] + [1, 3, 5, 7, 9] →[2, 5, 8, 11, 14]\n",
    "    - list + list\n",
    "        - 두 리스트의 값들이 한 리스트로 합쳐짐 (concatenation)\n",
    "        - Ex.[1, 2, 3, 4, 5] + [1, 3, 5, 7, 9] →[1, 2, 3, 4, 5, 1, 3, 5, 7, 9]\n",
    "       \n",
    "    -----\n",
    "    - numpy array 는 numpy array 끼리 <b>뺄셈 , 곱셈 , 나눗셈</b> 가능\n",
    "        - 같은 인덱스에 있는 값들끼리 연산\n",
    "    - Python list 는 list 끼리 뺄셈 , 곱셈 , 나눗셈을 하면 <b>오류</b> 발생"
   ]
  },
  {
   "cell_type": "markdown",
   "metadata": {},
   "source": [
    "### Numpy array 는 array 전체에 연산 이 가능하지만 Python list 는 곱셈 만 가능\n",
    "- numpy array 와 숫자의 연산 -> array 에 들어있는 각 값에 연산이 적용됨(+, -, *, / 모두 가능)\n",
    "    - numpy array + 5\n",
    "        - array 안에 들어있는 각 값에 +5\n",
    "        - Ex. [1, 2, 3] + 5 →[6, 7, 8]\n",
    "- Python list 는 곱셈만 가능\n",
    "    - array 처럼 각 값에 곱을 해주는 것이 아닌 , list 의 요소를 해당숫자만큼 반복!\n",
    "        - Ex. [1, 2, 3] * 3 →[1, 2, 3, 1, 2, 3, 1, 2, 3]"
   ]
  },
  {
   "cell_type": "markdown",
   "metadata": {},
   "source": [
    "### 성능 차이\n",
    "- Python list 에 비해 문법이 간단하고 성능이 뛰어남\n",
    "    - 예를 들어 1 억 개의 요소가 있는 기본 python list 에 곱하기 2 를 하려면?\n",
    "        - 반복문을 1 억 번 돌려야 함\n",
    "        - numpy array 는 그냥 * 2 만 붙여주면 됨\n",
    "- 성능 차이가 나는 이유\n",
    "    - 값들이 저장되는 방식에 차이\n",
    "        - python list 는 다양한 자료형을 저장 가능\n",
    "        - numpy array 는 같은 자료형만 저장 가능\n",
    "        \n",
    "### 결론\n",
    "- python list -> 값을 추가하고 제거할 때 사용\n",
    "- numpy array -> 수치 계산이 많고 복잡할 때 혹은 행렬 같은\n",
    "다차원 배열을 쓸 때 사용\n"
   ]
  }
 ],
 "metadata": {
  "kernelspec": {
   "display_name": "Python 3.7.6 64-bit ('opencv': conda)",
   "language": "python",
   "name": "python37664bitopencvcondaa7b52f8d4e1c4224b91d1431291b4732"
  },
  "language_info": {
   "codemirror_mode": {
    "name": "ipython",
    "version": 3
   },
   "file_extension": ".py",
   "mimetype": "text/x-python",
   "name": "python",
   "nbconvert_exporter": "python",
   "pygments_lexer": "ipython3",
   "version": "3.7.6"
  }
 },
 "nbformat": 4,
 "nbformat_minor": 2
}
