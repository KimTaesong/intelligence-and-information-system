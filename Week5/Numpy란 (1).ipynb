{
 "cells": [
  {
   "cell_type": "markdown",
   "metadata": {},
   "source": [
    "# Numpy와 pandas로 데이터 분석하기\n",
    "- ### 데이터 분석을 위한 Python 라이브러리 3 종\n",
    "    - Numpy\n",
    "    - Pandas\n",
    "\n",
    "- ### Pandas 를 활용한 데이터 분석\n",
    "- ### 데이터 분석을 위한 Python 라이브러리 3가지!\n",
    "    ①  Matplotlib<br>\n",
    "    ②  Numpy<br>\n",
    "    ③  Pandas<br>\n",
    "- ### 테이블 모양 데이터 다루기\n",
    "![ex01](https://github.com/KimTaesong/intelligence-and-information-system/blob/master/Week5/img/ex01.PNG)"
   ]
  },
  {
   "cell_type": "markdown",
   "metadata": {},
   "source": [
    "- ### 데이터 분석을 위한 Python 라이브러리 3가지!\n",
    "    ①  <b>Matplotlib</b> -> (확장) -> seaborn<br>\n",
    "    -더 알고 실다면! https://matplotlib.org/gallery.html<br>\n",
    "    ②  Numpy<br>\n",
    "    ③  Pandas<br>\n",
    "- ### 테이블 모양 데이터 다루기\n",
    "![ex01](.\\img\\ex01.png)"
   ]
  },
  {
   "cell_type": "markdown",
   "metadata": {},
   "source": [
    "- ### 데이터 분석을 위한 Python 라이브러리 3가지!\n",
    "    ①  Matplotlib<br>\n",
    "    ②  <b>Numpy</b><br>\n",
    "    - Numerical 의 줄임말\n",
    "    - 행렬 , 수치 계산 등 데이터를 다루기 쉽게 도와줌\n",
    "        - 고성능의 과학 계산 컴퓨팅과 데이터 분석에 필요한 라이브러리\n",
    "    - 튜토리얼 : https://numpy.org/devdocs/user/quickstart.html<br>\n",
    "  \n",
    "  \n",
    "  \n",
    "  \n",
    "   |항목1|항목2|항목3|항목4| \n",
    "   |--|--|--|--|\n",
    "   |14|0|0|2|\n",
    "   |13|5|4|8|\n",
    "   |24|21|25|28|\n",
    "  \n",
    "    ③  Pandas\n",
    "  \n",
    "   \n",
    "\n"
   ]
  },
  {
   "cell_type": "markdown",
   "metadata": {},
   "source": [
    "- ### 데이터 분석을 위한 Python 라이브러리 3가지!\n",
    "    ①  Matplotlib<br>\n",
    "    ②  Numpy<br>\n",
    "    ③  <b>Pandas</b><br>\n",
    "    - Panel Datas 의 줄임말\n",
    "    - 테이블 형태의 데이터를 다루게 쉽게 도와주는 라이브러리\n",
    "    - csv, html, sql 등 다양한 데이터를 읽을 수 있음\n",
    "    - 튜토리얼 : https://pandas.pydata.org/pandas\n",
    "docs/stable/getting_started/intro_tutorials/index.html\n",
    "\n",
    "|나라|참가횟수|금|은|동|\n",
    "|:---:|:---:|:---:|:---:|:---:|\n",
    "|아프가니스탄|14|0|0|2|\n",
    "|알제니|13|5|5|8|\n",
    "|아르헨티나|24|21|25|28|\n",
    "\n",
    "![ex01](./img/ex01.png)"
   ]
  },
  {
   "cell_type": "markdown",
   "metadata": {},
   "source": [
    "## Numpy란?\n",
    "- ### numpy 는 수치 데이터를 다루기 위한 라이브러리\n",
    "    - (다차원 배열 구조인 ndarray 를 이용하여) 행렬 벡터 및 수치 연산을 빠르게 하는 것이 핵심\n",
    "\n",
    "    - list 와 numpy array 의 연산 속도 차이는 30~40 배까지 나기도 함\n",
    "        - C 언어로 구현된 파이썬 라이브러리\n",
    "- ### 데이터의 크기가 커질수록 numpy 는 필수\n",
    "- ### numpy 의 array( 배열) 에 대해 알아보겠습니다\n",
    "    - ### import numpy as np"
   ]
  },
  {
   "cell_type": "markdown",
   "metadata": {},
   "source": [
    "## 차원(Dimesion)\n",
    "- ### 중첩 리스트\n",
    "- ### 리스트 안의 리스트\n",
    "- 차원 ? 중첩된 정도를 구분하기 위한 단위\n",
    "    - Ex. 1 번 중첩되면 1 차원 , 2 번 중첩되면 2 차원\n",
    "- ### 일반적인 리스트는 중첩 데이터를 처리하는 게 느리고 복잡 -> numpy 라이브러리 사용\n"
   ]
  },
  {
   "cell_type": "code",
   "execution_count": 13,
   "metadata": {},
   "outputs": [
    {
     "data": {
      "text/plain": [
       "[[[1, 2, 3, 4], [5, 6, 7, 8]], [[1, 3, 4, 5]]]"
      ]
     },
     "execution_count": 13,
     "metadata": {},
     "output_type": "execute_result"
    }
   ],
   "source": [
    "[1,2,3,4]                            # 1차원\n",
    "[[1,2,3,4],[5,6,7,8]]                # 2차원\n",
    "[[[1,2,3,4],[5,6,7,8]],[[1,3,4,5]]]  # 3차원"
   ]
  },
  {
   "cell_type": "markdown",
   "metadata": {},
   "source": [
    "## np.array()\n",
    "- ### Numpy 의 핵심은 ndarray\n",
    "    - np.array 는 리스트 , 튜플 , 배열로 부터 ndarray 를 생성\n",
    "- ### 리스트(list)로 1차원 배열을 생성해보기"
   ]
  },
  {
   "cell_type": "code",
   "execution_count": 14,
   "metadata": {},
   "outputs": [
    {
     "name": "stdout",
     "output_type": "stream",
     "text": [
      "<class 'numpy.ndarray'>\n",
      "[1 2 3 4 5]\n"
     ]
    }
   ],
   "source": [
    "# numpy 라이브러리 import 하기\n",
    "import numpy as np\n",
    "# 1차원 배열 생성하기\n",
    "a = np.array([1,2,3,4,5])\n",
    "print(type(a))\n",
    "print(a)"
   ]
  },
  {
   "cell_type": "markdown",
   "metadata": {},
   "source": [
    "- ### 2차원 배열 생성해보기\n",
    "    - 리스트의 리스트를 입력 값으로 !"
   ]
  },
  {
   "cell_type": "code",
   "execution_count": 15,
   "metadata": {},
   "outputs": [
    {
     "name": "stdout",
     "output_type": "stream",
     "text": [
      "<class 'numpy.ndarray'>\n",
      "[[1 2 3]\n",
      " [4 5 6]]\n"
     ]
    }
   ],
   "source": [
    "# 2차원 배열 생성하기\n",
    "b = np.array([[1,2,3],[4,5,6]])\n",
    "print(type(b))\n",
    "print(b)\n"
   ]
  },
  {
   "cell_type": "code",
   "execution_count": 16,
   "metadata": {},
   "outputs": [
    {
     "name": "stdout",
     "output_type": "stream",
     "text": [
      "<class 'numpy.ndarray'>\n",
      "[[1 2 3]\n",
      " [4 5 6]]\n"
     ]
    }
   ],
   "source": [
    "# 변수를 사용하여 2차원 배열 생성하기\n",
    "i_list = [[1,2,3],[4,5,6]]\n",
    "b = np.array(i_list)\n",
    "print(type(b))\n",
    "print(b)"
   ]
  },
  {
   "cell_type": "markdown",
   "metadata": {},
   "source": [
    "- ### 배열의 차원 및 크기 확인\n",
    "    - ndim 및 shape 속성으로 출력하기"
   ]
  },
  {
   "cell_type": "code",
   "execution_count": 17,
   "metadata": {},
   "outputs": [
    {
     "name": "stdout",
     "output_type": "stream",
     "text": [
      "2\n",
      "(2, 3)\n"
     ]
    }
   ],
   "source": [
    "# 배열의 차원 및 크기 확인\n",
    "# ndim 및 shape 속성으로 출력하기\n",
    "print(b.ndim)\n",
    "print(b.shape)"
   ]
  },
  {
   "cell_type": "markdown",
   "metadata": {},
   "source": [
    "2차원이며, 2 x 3 크기의 배열"
   ]
  },
  {
   "cell_type": "code",
   "execution_count": 18,
   "metadata": {},
   "outputs": [
    {
     "name": "stdout",
     "output_type": "stream",
     "text": [
      "1\n",
      "(5,)\n"
     ]
    }
   ],
   "source": [
    "print(a.ndim)\n",
    "print(a.shape)"
   ]
  },
  {
   "cell_type": "markdown",
   "metadata": {},
   "source": [
    "1차원이며, 크기 5의 배열"
   ]
  },
  {
   "cell_type": "code",
   "execution_count": null,
   "metadata": {},
   "outputs": [],
   "source": []
  }
 ],
 "metadata": {
  "kernelspec": {
   "display_name": "Python 3.7.6 64-bit ('opencv': conda)",
   "language": "python",
   "name": "python37664bitopencvcondaa7b52f8d4e1c4224b91d1431291b4732"
  },
  "language_info": {
   "codemirror_mode": {
    "name": "ipython",
    "version": 3
   },
   "file_extension": ".py",
   "mimetype": "text/x-python",
   "name": "python",
   "nbconvert_exporter": "python",
   "pygments_lexer": "ipython3",
   "version": "3.7.6"
  }
 },
 "nbformat": 4,
 "nbformat_minor": 2
}
